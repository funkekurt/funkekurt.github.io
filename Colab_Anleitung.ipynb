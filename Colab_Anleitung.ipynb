{
  "nbformat": 4,
  "nbformat_minor": 0,
  "metadata": {
    "colab": {
      "provenance": [],
      "authorship_tag": "ABX9TyNG6hWUOP5ttopMQO+8omjA",
      "include_colab_link": true
    },
    "kernelspec": {
      "name": "python3",
      "display_name": "Python 3"
    },
    "language_info": {
      "name": "python"
    }
  },
  "cells": [
    {
      "cell_type": "markdown",
      "metadata": {
        "id": "view-in-github",
        "colab_type": "text"
      },
      "source": [
        "<a href=\"https://colab.research.google.com/github/funkekurt/funkekurt.github.io/blob/master/Colab_Anleitung.ipynb\" target=\"_parent\"><img src=\"https://colab.research.google.com/assets/colab-badge.svg\" alt=\"Open In Colab\"/></a>"
      ]
    },
    {
      "cell_type": "markdown",
      "source": [
        "## Complet Google Colab Tutorial\n",
        "https://youtu.be/agj3AxNPDWU\n",
        "\n",
        "## Meine Aufzeichnungen\n",
        "https://docs.google.com/document/d/1yuQVtMrAljJownsPI6ml8I32QCgdbG5PPUjfqP_9LCc/edit#heading=h.a9u5fdbhh14x\n",
        "\n",
        "\n",
        "\n",
        "\n",
        "\n",
        "\n",
        "\n"
      ],
      "metadata": {
        "id": "BRWradFKsXV-"
      }
    },
    {
      "cell_type": "markdown",
      "source": [],
      "metadata": {
        "id": "xHnm5xqr1Io6"
      }
    },
    {
      "cell_type": "code",
      "execution_count": 1,
      "metadata": {
        "colab": {
          "base_uri": "https://localhost:8080/"
        },
        "id": "YN8G7teIH_9Q",
        "outputId": "b153e3f3-7c99-4c8d-8d3d-b55bb6f16779"
      },
      "outputs": [
        {
          "output_type": "stream",
          "name": "stdout",
          "text": [
            "Hallo world!\n"
          ]
        }
      ],
      "source": [
        "print(\"Hallo world!\")"
      ]
    }
  ]
}